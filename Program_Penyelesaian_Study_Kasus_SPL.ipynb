{
  "nbformat": 4,
  "nbformat_minor": 0,
  "metadata": {
    "colab": {
      "provenance": [],
      "authorship_tag": "ABX9TyPaMNGf3vNCni4v1I7oSBc3",
      "include_colab_link": true
    },
    "kernelspec": {
      "name": "python3",
      "display_name": "Python 3"
    },
    "language_info": {
      "name": "python"
    }
  },
  "cells": [
    {
      "cell_type": "markdown",
      "metadata": {
        "id": "view-in-github",
        "colab_type": "text"
      },
      "source": [
        "<a href=\"https://colab.research.google.com/github/IntifadaAdeKartika/METODE-NUMERIC/blob/main/Program_Penyelesaian_Study_Kasus_SPL.ipynb\" target=\"_parent\"><img src=\"https://colab.research.google.com/assets/colab-badge.svg\" alt=\"Open In Colab\"/></a>"
      ]
    },
    {
      "cell_type": "code",
      "execution_count": null,
      "metadata": {
        "colab": {
          "base_uri": "https://localhost:8080/"
        },
        "id": "54ksCFDZF-kT",
        "outputId": "0ee01b17-65cc-476c-bfa3-0dabb3429f07"
      },
      "outputs": [
        {
          "output_type": "stream",
          "name": "stdout",
          "text": [
            "Jumlah produk per mesin:\n",
            "Mesin 1: 32.50 unit\n",
            "Mesin 2: 12.50 unit\n",
            "Mesin 3: 22.50 unit\n"
          ]
        }
      ],
      "source": [
        "import numpy as np\n",
        "\n",
        "# Matriks koefisien\n",
        "A = np.array([\n",
        "    [2, 1, 1],\n",
        "    [1, 2, 1],\n",
        "    [1, 1, 2]\n",
        "])\n",
        "\n",
        "# Vektor hasil\n",
        "B = np.array([100, 80, 90])\n",
        "\n",
        "# Menyelesaikan SPL\n",
        "solusi = np.linalg.solve(A, B)\n",
        "\n",
        "print(\"Jumlah produk per mesin:\")\n",
        "print(f\"Mesin 1: {solusi[0]:.2f} unit\")\n",
        "print(f\"Mesin 2: {solusi[1]:.2f} unit\")\n",
        "print(f\"Mesin 3: {solusi[2]:.2f} unit\")\n"
      ]
    }
  ]
}